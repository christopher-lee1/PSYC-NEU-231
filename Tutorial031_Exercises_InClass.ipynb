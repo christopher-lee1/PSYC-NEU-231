{
 "cells": [
  {
   "cell_type": "markdown",
   "metadata": {},
   "source": [
    "# Tutorial 03 in class exercises (randomization and bootstrapping)\n",
    "## Goals\n",
    "* Practice working through coding basics on your own\n",
    "* Get a better intuition about when standard parametric t-tests and non-parametric approaches produce similar results and when they can diverge\n",
    "* See the importance of plotting your data before you do anything else!\n",
    "* Apply bootstrapping to some real EEG data to estimate confidence intervals"
   ]
  },
  {
   "cell_type": "markdown",
   "metadata": {},
   "source": [
    "## First start by importing the packages you'll need. \n",
    "* Numpy, scipy, and matplotlib\n",
    "* maybe set up a standard font as well if you want to get fancy"
   ]
  },
  {
   "cell_type": "code",
   "execution_count": 1,
   "metadata": {},
   "outputs": [],
   "source": [
    "import numpy as np\n",
    "from scipy import stats\n",
    "import matplotlib.pyplot as plt"
   ]
  },
  {
   "cell_type": "markdown",
   "metadata": {},
   "source": [
    "## Part I: Start with some data.\n",
    "* First plot it\n",
    "* Then compute summary stats (mean, std) for each data array\n",
    "* Then compute the correlation coeffecient that relates the two arrays\n",
    "* Then the t-value and p-value associated with the correlation. \n",
    "* Try to do this without copying from the in-class tutorial! Google the formulas if you don't remember them and then try to translate them into python (you can peek at in class tutorial if you get stuck, but its good practice to just hack it out)\n",
    "\n",
    "[source of this famous data set: Anscombe](https://en.wikipedia.org/wiki/Anscombe%27s_quartet)"
   ]
  },
  {
   "cell_type": "code",
   "execution_count": 2,
   "metadata": {},
   "outputs": [],
   "source": [
    "d1 = np.array([10, 8, 13, 9, 11, 14, 6, 4, 12, 7, 5])\n",
    "d2 = np.array([8.04, 6.95, 7.58, 8.81, 8.33, 9.96, 7.24, 4.26, 10.84, 4.82, 5.68])"
   ]
  },
  {
   "cell_type": "markdown",
   "metadata": {},
   "source": [
    "## Plot data...scatter works well here\n",
    "* First rule of data analysis...always plot your data first!"
   ]
  },
  {
   "cell_type": "code",
   "execution_count": 3,
   "metadata": {},
   "outputs": [
    {
     "data": {
      "image/png": "[encoded data removed]",
      "text/plain": [
       "<Figure size 432x288 with 1 Axes>"
      ]
     },
     "metadata": {},
     "output_type": "display_data"
    }
   ],
   "source": [
    "plt.scatter(d1,d2)\n",
    "plt.xlabel('D1')\n",
    "plt.ylabel('D2')\n",
    "plt.show()"
   ]
  },
  {
   "cell_type": "markdown",
   "metadata": {},
   "source": [
    "## Compute mean, std of both data arrays\n",
    "* Leave the output in the notebook so that we can come back and compare later"
   ]
  },
  {
   "cell_type": "code",
   "execution_count": 4,
   "metadata": {},
   "outputs": [
    {
     "name": "stdout",
     "output_type": "stream",
     "text": [
      "Mean of dataset 1 =  9.0 \n",
      "Standard Deviation of dataset 1 =  3.1622776601683795\n",
      "Mean of dataset 2 =  7.500909090909093 \n",
      "Standard Deviation of dataset 2 =  1.937024215108669\n"
     ]
    }
   ],
   "source": [
    "d1_mean = d1.mean()\n",
    "d1_std = d1.std()\n",
    "d2_mean = d2.mean()\n",
    "d2_std = d2.std()\n",
    "\n",
    "print('Mean of dataset 1 = ', d1_mean, '\\nStandard Deviation of dataset 1 = ', d1_std)\n",
    "print('Mean of dataset 2 = ', d2_mean, '\\nStandard Deviation of dataset 2 = ', d2_std)"
   ]
  },
  {
   "cell_type": "markdown",
   "metadata": {},
   "source": [
    "## Correlate the two data arrays, compute t-value and p-value associated with correlation coef"
   ]
  },
  {
   "cell_type": "code",
   "execution_count": 5,
   "metadata": {},
   "outputs": [
    {
     "name": "stdout",
     "output_type": "stream",
     "text": [
      "Correlation Coefficient =  0.81642051634484\n",
      "t-value =  4.241455288892834 \n",
      "p-value =  0.001712478019544772\n"
     ]
    }
   ],
   "source": [
    "correlation = np.corrcoef(d1,d2)[0,1]\n",
    "print('Correlation Coefficient = ', correlation)\n",
    "\n",
    "#t-test for correlation\n",
    "t_value = (correlation * np.sqrt(len(d1)-2))/np.sqrt(1-correlation**2)\n",
    "p_value = 2*(1-stats.t.cdf(t_value, len(d1)-1)) #multiply by 2 because one-tailed\n",
    "print('t-value = ', t_value, '\\np-value = ', p_value)"
   ]
  },
  {
   "cell_type": "markdown",
   "metadata": {},
   "source": [
    "## Now use randomization testing to eval the reliability of the estimated p-value. \n",
    "\n",
    "<div class=\"alert alert-info\">\n",
    "Before you run this procedure, you should have a pretty good idea about how the standard p-value will compare with the p-value that you estimate using randomization. Make a prediction!\n",
    "</div>"
   ]
  },
  {
   "cell_type": "code",
   "execution_count": 6,
   "metadata": {},
   "outputs": [
    {
     "name": "stdout",
     "output_type": "stream",
     "text": [
      "Randomization p-value =  0.0\n"
     ]
    }
   ],
   "source": [
    "N_rand = 100 #number of randomizations\n",
    "correlation_vals = np.zeros(N_rand)\n",
    "t_vals = np.zeros(N_rand)\n",
    "N = len(d1)\n",
    "temp1 = np.zeros(N)\n",
    "temp2 = np.zeros(N)\n",
    "\n",
    "for i in list(range(N_rand)):\n",
    "    \n",
    "    for ii in list(range(N)):\n",
    "        if np.random.rand(1) < 0.5:\n",
    "            temp1[ii] = d1[ii]\n",
    "            temp2[ii] = d2[ii]\n",
    "        else:\n",
    "            temp1[ii] = d2[ii]\n",
    "            temp2[ii] = d1[ii]\n",
    "    correlation_vals[i] = np.corrcoef(temp1,temp2)[0,1]\n",
    "    t_vals[i] = (correlation_vals[i]*np.sqrt(N-2))/(np.sqrt(1-correlation_vals[i]**2))\n",
    "\n",
    "p_value_rand = 2*(1-(np.sum(t_value>t_vals))/N_rand)\n",
    "\n",
    "print('Randomization p-value = ', p_value_rand)"
   ]
  },
  {
   "cell_type": "markdown",
   "metadata": {},
   "source": [
    "## Part II: Here is a second data set (actually, its another part of the Anscombe data set...but lets pretend like its an entirely new data set)"
   ]
  },
  {
   "cell_type": "code",
   "execution_count": 7,
   "metadata": {},
   "outputs": [],
   "source": [
    "d1 = np.array([8, 8, 8, 8, 8, 8, 8, 19, 8, 8, 8])\n",
    "d2 = np.array([6.58, 5.76, 7.71, 8.84, 8.47, 7.04, 5.25, 12.5, 5.56, 7.91, 6.89])"
   ]
  },
  {
   "cell_type": "markdown",
   "metadata": {},
   "source": [
    "## Break the first rule of data analysis, and BEFORE you plot the data, compute the mean and std of these two arrays\n",
    "* What do you notice when you compare them to the mean and std of the arrays in the first part of the exercises?"
   ]
  },
  {
   "cell_type": "code",
   "execution_count": 8,
   "metadata": {},
   "outputs": [
    {
     "name": "stdout",
     "output_type": "stream",
     "text": [
      "d1 mean =  9.0 \n",
      "d1 std =  3.1622776601683795 \n",
      "d2 mean =  7.500909090909091 \n",
      "d2 std =  1.9360806451340837\n"
     ]
    }
   ],
   "source": [
    "mean_d1 = d1.mean()\n",
    "mean_d2 = d2.mean()\n",
    "std_d1 = d1.std()\n",
    "std_d2 = d2.std()\n",
    "\n",
    "print('d1 mean = ', mean_d1, '\\nd1 std = ', std_d1, '\\nd2 mean = ', mean_d2, '\\nd2 std = ', std_d2)"
   ]
  },
  {
   "cell_type": "markdown",
   "metadata": {},
   "source": [
    "## Based only on your comparison of the mean and std of the data from Part I and Part II, what is your prediction about the effects of randomization testing on this new data set? \n",
    "* Will the randomization based p-value be similar to the standard p-value as it was in the example above?"
   ]
  },
  {
   "cell_type": "markdown",
   "metadata": {},
   "source": [
    "## Ok - now plot the data"
   ]
  },
  {
   "cell_type": "code",
   "execution_count": 9,
   "metadata": {},
   "outputs": [
    {
     "data": {
      "image/png": "[encoded data removed]",
      "text/plain": [
       "<Figure size 432x288 with 1 Axes>"
      ]
     },
     "metadata": {},
     "output_type": "display_data"
    }
   ],
   "source": [
    "plt.scatter(d1, d2)\n",
    "plt.xlabel('D1')\n",
    "plt.ylabel('D2')\n",
    "plt.show()"
   ]
  },
  {
   "cell_type": "markdown",
   "metadata": {},
   "source": [
    "## Based on this, what do you think is going to happen when we compare the output from a parametric test and a radomization test?\n",
    "* Remember that the mean and the std of the data sets in Part I and Part II are identical...\n",
    "* Compute correlation coef, and do randomization testing"
   ]
  },
  {
   "cell_type": "code",
   "execution_count": 10,
   "metadata": {},
   "outputs": [
    {
     "name": "stdout",
     "output_type": "stream",
     "text": [
      "Correlation Coefficient =  0.8165214368885028\n",
      "t-value =  4.243028188591634 \n",
      "p-value =  0.0017082247651687421\n"
     ]
    }
   ],
   "source": [
    "correlation = np.corrcoef(d1,d2)[0,1]\n",
    "print('Correlation Coefficient = ', correlation)\n",
    "\n",
    "#t-test for correlation\n",
    "t_value = (correlation * np.sqrt(len(d1)-2))/np.sqrt(1-correlation**2)\n",
    "p_value = 2*(1-stats.t.cdf(t_value, len(d1)-1)) #multiply by 2 because one-tailed\n",
    "print('t-value = ', t_value, '\\np-value = ', p_value)"
   ]
  },
  {
   "cell_type": "markdown",
   "metadata": {},
   "source": [
    "## Compare the correlation coeffecients to those from Part I.\n",
    "* So far, everything is pretty much the same between the data sets (same mean/std/corr coef)\n",
    "* So should randomization testing yield about the same results? Try it..."
   ]
  },
  {
   "cell_type": "code",
   "execution_count": 11,
   "metadata": {},
   "outputs": [
    {
     "name": "stdout",
     "output_type": "stream",
     "text": [
      "Randomization p-value =  0.32000000000000006\n"
     ]
    }
   ],
   "source": [
    "N_rand = 100 #number of randomizations\n",
    "correlation_vals = np.zeros(N_rand)\n",
    "t_vals = np.zeros(N_rand)\n",
    "N = len(d1)\n",
    "temp1 = np.zeros(N)\n",
    "temp2 = np.zeros(N)\n",
    "\n",
    "for i in list(range(N_rand)):\n",
    "    \n",
    "    for ii in list(range(N)):\n",
    "        if np.random.rand(1) < 0.5:\n",
    "            temp1[ii] = d1[ii]\n",
    "            temp2[ii] = d2[ii]\n",
    "        else:\n",
    "            temp1[ii] = d2[ii]\n",
    "            temp2[ii] = d1[ii]\n",
    "    correlation_vals[i] = np.corrcoef(temp1,temp2)[0,1]\n",
    "    t_vals[i] = (correlation_vals[i]*np.sqrt(N-2))/(np.sqrt(1-correlation_vals[i]**2))\n",
    "\n",
    "p_value_rand = 2*(1-(np.sum(t_value>t_vals))/N_rand)\n",
    "\n",
    "print('Randomization p-value = ', p_value_rand)"
   ]
  },
  {
   "cell_type": "markdown",
   "metadata": {},
   "source": [
    "## Part III: Load in the second EEG data set from last week (eeg_data01.npz). \n",
    "* Pull out the data, sr, and tx arrays"
   ]
  },
  {
   "cell_type": "code",
   "execution_count": 12,
   "metadata": {},
   "outputs": [],
   "source": [
    "# load the data...\n",
    "eeg = np.load('eeg_data01.npz')\n",
    "\n",
    "data = eeg['data']\n",
    "sr = eeg['sr']\n",
    "tx = eeg['tx']"
   ]
  },
  {
   "cell_type": "markdown",
   "metadata": {},
   "source": [
    "## Below is a vector that labels each trial as coming from experimental conditions 1,2,3,4"
   ]
  },
  {
   "cell_type": "code",
   "execution_count": 13,
   "metadata": {},
   "outputs": [],
   "source": [
    "N = data.shape[0]\n",
    "num_samp_cond = int(N/4)\n",
    "cond = np.hstack((np.ones(num_samp_cond), np.ones(num_samp_cond)*2, np.ones(num_samp_cond)*3, np.ones(num_samp_cond)*4))"
   ]
  },
  {
   "cell_type": "markdown",
   "metadata": {},
   "source": [
    "## Now avgerage the data from condition 2, avg the data from condition 3, and plot against the time axis (tx) - we're going to ignore conditions 1 and 4"
   ]
  },
  {
   "cell_type": "code",
   "execution_count": 14,
   "metadata": {},
   "outputs": [
    {
     "data": {
      "text/plain": [
       "(1600, 4102)"
      ]
     },
     "execution_count": 14,
     "metadata": {},
     "output_type": "execute_result"
    }
   ],
   "source": [
    "data.shape"
   ]
  },
  {
   "cell_type": "code",
   "execution_count": 15,
   "metadata": {},
   "outputs": [
    {
     "data": {
      "image/png": "[encoded data removed]",
      "text/plain": [
       "<Figure size 432x288 with 1 Axes>"
      ]
     },
     "metadata": {},
     "output_type": "display_data"
    }
   ],
   "source": [
    "data_mean2 = data[cond==2,:].mean(axis=0)\n",
    "data_mean3 = data[cond==3,:].mean(axis=0)\n",
    "\n",
    "plt.plot(tx, data_mean2)\n",
    "plt.plot(tx, data_mean3)\n",
    "plt.show()"
   ]
  },
  {
   "cell_type": "markdown",
   "metadata": {},
   "source": [
    "## Next do a t-test for related samples comparing the responses in conditions 2 and 3 at each point in time. Note - you can do this all in one line of code!"
   ]
  },
  {
   "cell_type": "code",
   "execution_count": 16,
   "metadata": {},
   "outputs": [
    {
     "data": {
      "text/plain": [
       "array([1.86704323e-01, 9.57567013e-02, 1.50816966e-03, ...,\n",
       "       2.72632176e+00, 2.68161096e+00, 2.64216049e+00])"
      ]
     },
     "execution_count": 16,
     "metadata": {},
     "output_type": "execute_result"
    }
   ],
   "source": [
    "t_test = stats.ttest_rel(data[cond==2,:],data[cond==3,:],axis=0)\n",
    "t_test.statistic"
   ]
  },
  {
   "cell_type": "markdown",
   "metadata": {},
   "source": [
    "## now plot the averages in one plot, and then right below that make another plot with the t-values. Keep in mind that with this many degrees of freedom, a t-value of approx 1.9 is significant at the magic 0.05 level (or 1.68 one-tailed). So put some horizontal lines on the plot at 1.9 and -1.9. You'll see some pretty impressive t-values in the data!"
   ]
  },
  {
   "cell_type": "code",
   "execution_count": 17,
   "metadata": {},
   "outputs": [
    {
     "data": {
      "image/png": "[encoded data removed]",
      "text/plain": [
       "<Figure size 432x288 with 1 Axes>"
      ]
     },
     "metadata": {},
     "output_type": "display_data"
    },
    {
     "data": {
      "image/png": "[encoded data removed]",
      "text/plain": [
       "<Figure size 432x288 with 1 Axes>"
      ]
     },
     "metadata": {},
     "output_type": "display_data"
    }
   ],
   "source": [
    "plt.plot(tx, data_mean2)\n",
    "plt.plot(tx, data_mean3)\n",
    "plt.show()\n",
    "\n",
    "plt.plot(tx, t_test.statistic, linewidth=2)\n",
    "plt.axhline(1.9, color = 'r', linestyle = '--')\n",
    "plt.axhline(-1.9, color = 'r', linestyle = '--')\n",
    "plt.xlabel('Time')\n",
    "plt.ylabel('T-value')\n",
    "plt.show()"
   ]
  },
  {
   "cell_type": "markdown",
   "metadata": {},
   "source": [
    "## You should see that there is a significant difference at many timepoints...Now figure out how robust those effects are by applying bootstrapping \n",
    "* To do this, you might first create two 800 x 4102 matrices, one with data from all trials of condition 2, and one with data from all trials of condition 3\n",
    "* Then resample 800 trials, with replacement, from each data matrix and then do the t-test. \n",
    "* try generating a set of 800 values with repeating numbers that you can use for a row index into the data matrices\n",
    "* repeat and then compute CIs of the t-value\n",
    "* how often do the CIs for the t-value overlap with 0???\n",
    "* note - this can take a while, so start with 50 bootstraps and then increase as compute time allows"
   ]
  },
  {
   "cell_type": "code",
   "execution_count": 1,
   "metadata": {},
   "outputs": [
    {
     "ename": "NameError",
     "evalue": "name 'index1' is not defined",
     "output_type": "error",
     "traceback": [
      "\u001b[0;31m---------------------------------------------------------------------------\u001b[0m",
      "\u001b[0;31mNameError\u001b[0m                                 Traceback (most recent call last)",
      "\u001b[0;32m<ipython-input-1-c68d01b4f4d2>\u001b[0m in \u001b[0;36m<module>\u001b[0;34m()\u001b[0m\n\u001b[0;32m----> 1\u001b[0;31m \u001b[0mindex1\u001b[0m\u001b[0;34m\u001b[0m\u001b[0m\n\u001b[0m",
      "\u001b[0;31mNameError\u001b[0m: name 'index1' is not defined"
     ]
    }
   ],
   "source": [
    "index1"
   ]
  },
  {
   "cell_type": "code",
   "execution_count": 2,
   "metadata": {},
   "outputs": [
    {
     "ename": "NameError",
     "evalue": "name 'data' is not defined",
     "output_type": "error",
     "traceback": [
      "\u001b[0;31m---------------------------------------------------------------------------\u001b[0m",
      "\u001b[0;31mNameError\u001b[0m                                 Traceback (most recent call last)",
      "\u001b[0;32m<ipython-input-2-8ea6f50aac62>\u001b[0m in \u001b[0;36m<module>\u001b[0;34m()\u001b[0m\n\u001b[0;32m----> 1\u001b[0;31m \u001b[0md_cond2\u001b[0m \u001b[0;34m=\u001b[0m \u001b[0mdata\u001b[0m\u001b[0;34m[\u001b[0m\u001b[0mcond\u001b[0m\u001b[0;34m==\u001b[0m\u001b[0;36m2\u001b[0m\u001b[0;34m,\u001b[0m\u001b[0;34m:\u001b[0m\u001b[0;34m]\u001b[0m\u001b[0;34m\u001b[0m\u001b[0m\n\u001b[0m\u001b[1;32m      2\u001b[0m \u001b[0md_cond3\u001b[0m \u001b[0;34m=\u001b[0m \u001b[0mdata\u001b[0m\u001b[0;34m[\u001b[0m\u001b[0mcond\u001b[0m\u001b[0;34m==\u001b[0m\u001b[0;36m3\u001b[0m\u001b[0;34m,\u001b[0m\u001b[0;34m:\u001b[0m\u001b[0;34m]\u001b[0m\u001b[0;34m\u001b[0m\u001b[0m\n\u001b[1;32m      3\u001b[0m \u001b[0;34m\u001b[0m\u001b[0m\n\u001b[1;32m      4\u001b[0m \u001b[0mnum_bootstraps\u001b[0m \u001b[0;34m=\u001b[0m \u001b[0;36m100\u001b[0m\u001b[0;34m\u001b[0m\u001b[0m\n\u001b[1;32m      5\u001b[0m \u001b[0mboot_t_val\u001b[0m \u001b[0;34m=\u001b[0m \u001b[0mnp\u001b[0m\u001b[0;34m.\u001b[0m\u001b[0mzeros\u001b[0m\u001b[0;34m(\u001b[0m\u001b[0;34m(\u001b[0m\u001b[0mnum_bootstraps\u001b[0m\u001b[0;34m,\u001b[0m\u001b[0mdata\u001b[0m\u001b[0;34m.\u001b[0m\u001b[0mshape\u001b[0m\u001b[0;34m[\u001b[0m\u001b[0;36m1\u001b[0m\u001b[0;34m]\u001b[0m\u001b[0;34m)\u001b[0m\u001b[0;34m)\u001b[0m\u001b[0;34m\u001b[0m\u001b[0m\n",
      "\u001b[0;31mNameError\u001b[0m: name 'data' is not defined"
     ]
    }
   ],
   "source": [
    "d_cond2 = data[cond==2,:]\n",
    "d_cond3 = data[cond==3,:]\n",
    "\n",
    "num_bootstraps = 100\n",
    "boot_t_val = np.zeros((num_bootstraps,data.shape[1]))\n",
    "\n",
    "for i in np.arange(num_bootstraps):\n",
    "    index1 = np.random.randint(num_samp_cond, size=num_samp_cond)\n",
    "    index2 = np.random.randint(num_samp_cond, size=num_samp_cond)\n",
    "\n",
    "    tmp1 = d_cond2[index1,:]\n",
    "    tmp2 = d_cond3[index2,:]  \n",
    "    \n",
    "    tmp_t_stats = np.mean(tmp1-tmp2, axis=0) / (np.std(tmp1-tmp2, axis=0) / np.sqrt(len(d_cond2)-1))\n",
    "    boot_t_val[i,:] = tmp_t_stats\n",
    "\n",
    "CI = np.percentile(boot_t_val, [2.5, 97.5], axis=0)\n",
    "\n",
    "plt.title('T-values values +- 95% CIs')\n",
    "plt.plot(tx, np.mean(boot_t_val, axis=0), color='r')\n",
    "plt.plot(tx, CI[0,], color='k', linestyle='--')\n",
    "plt.plot(tx, CI[1,], color='k', linestyle='--')\n",
    "plt.axhline(0, color='k')\n",
    "plt.xlabel('Time->')\n",
    "plt.ylabel('T-value')\n",
    "plt.show()"
   ]
  },
  {
   "cell_type": "markdown",
   "metadata": {},
   "source": [
    "## How do things compare?"
   ]
  }
 ],
 "metadata": {
  "kernelspec": {
   "display_name": "Python 3",
   "language": "python",
   "name": "python3"
  },
  "language_info": {
   "codemirror_mode": {
    "name": "ipython",
    "version": 3
   },
   "file_extension": ".py",
   "mimetype": "text/x-python",
   "name": "python",
   "nbconvert_exporter": "python",
   "pygments_lexer": "ipython3",
   "version": "3.6.5"
  }
 },
 "nbformat": 4,
 "nbformat_minor": 2
}
