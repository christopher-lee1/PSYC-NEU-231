{
 "cells": [
  {
   "cell_type": "markdown",
   "metadata": {},
   "source": [
    "## EXERCISES\n",
    "\n",
    "### Vector Multiplication\n",
    "1. Produce 2 vectors, one with integers in the range [5,10] and the other [15,20] using the np.arange function\n",
    "1. Without using any functions from the numpy module\n",
    "    1. Compute the outer product of those vectors \n",
    "    1. Compute the \"trace\" of the resulting matrix\n",
    "    \n",
    "    ![trace](https://wikimedia.org/api/rest_v1/media/math/render/svg/3e5b6e82272fc5eeca6d510388e0a2bd0a6c6463)\n",
    "    \n",
    "    \n",
    "Complete the same items using numpy operations"
   ]
  },
  {
   "cell_type": "markdown",
   "metadata": {},
   "source": [
    "#### Import numpy"
   ]
  },
  {
   "cell_type": "code",
   "execution_count": 1,
   "metadata": {},
   "outputs": [],
   "source": [
    "import numpy as np"
   ]
  },
  {
   "cell_type": "markdown",
   "metadata": {},
   "source": [
    "#### Produce 2 vectors"
   ]
  },
  {
   "cell_type": "code",
   "execution_count": 2,
   "metadata": {},
   "outputs": [
    {
     "name": "stdout",
     "output_type": "stream",
     "text": [
      "a1 =  [ 5  6  7  8  9 10]\n",
      "\n",
      "a2 =  [15 16 17 18 19 20]\n"
     ]
    }
   ],
   "source": [
    "a1 = np.arange(5,11)\n",
    "a2 = np.arange(15,21)\n",
    "\n",
    "print('a1 = ', a1)\n",
    "print('\\na2 = ', a2)"
   ]
  },
  {
   "cell_type": "markdown",
   "metadata": {},
   "source": [
    "## Without numpy"
   ]
  },
  {
   "cell_type": "markdown",
   "metadata": {},
   "source": [
    "#### Computing outer product of 2 vectors (non-numpy way)"
   ]
  },
  {
   "cell_type": "code",
   "execution_count": 3,
   "metadata": {},
   "outputs": [
    {
     "name": "stdout",
     "output_type": "stream",
     "text": [
      "outer product = \n"
     ]
    },
    {
     "data": {
      "text/plain": [
       "[[75, 80, 85, 90, 95, 100],\n",
       " [90, 96, 102, 108, 114, 120],\n",
       " [105, 112, 119, 126, 133, 140],\n",
       " [120, 128, 136, 144, 152, 160],\n",
       " [135, 144, 153, 162, 171, 180],\n",
       " [150, 160, 170, 180, 190, 200]]"
      ]
     },
     "execution_count": 3,
     "metadata": {},
     "output_type": "execute_result"
    }
   ],
   "source": [
    "outer_product = []\n",
    "for i in range(len(a1)):\n",
    "    row = []\n",
    "    for j in range(len(a2)):\n",
    "        row.append(a1[i] * a2[j])\n",
    "    outer_product.append(row)\n",
    "\n",
    "\n",
    "print('outer product = ')\n",
    "outer_product"
   ]
  },
  {
   "cell_type": "markdown",
   "metadata": {},
   "source": [
    "#### Computing trace of resulting matrix (non-numpy way):"
   ]
  },
  {
   "cell_type": "code",
   "execution_count": 4,
   "metadata": {},
   "outputs": [
    {
     "data": {
      "text/plain": [
       "[[75, 80, 85, 90, 95, 100],\n",
       " [90, 96, 102, 108, 114, 120],\n",
       " [105, 112, 119, 126, 133, 140],\n",
       " [120, 128, 136, 144, 152, 160],\n",
       " [135, 144, 153, 162, 171, 180],\n",
       " [150, 160, 170, 180, 190, 200]]"
      ]
     },
     "execution_count": 4,
     "metadata": {},
     "output_type": "execute_result"
    }
   ],
   "source": [
    "list(outer_product)"
   ]
  },
  {
   "cell_type": "code",
   "execution_count": 5,
   "metadata": {
    "scrolled": true
   },
   "outputs": [
    {
     "name": "stdout",
     "output_type": "stream",
     "text": [
      "Diagonal Array = [75, 96, 119, 144, 171, 200]\n",
      "Trace =  805\n"
     ]
    }
   ],
   "source": [
    "trace_array = []\n",
    "\n",
    "for i in range(len(outer_product)):\n",
    "    trace_array.append(outer_product[i][i])\n",
    "\n",
    "print('Diagonal Array =', trace_array)\n",
    "print('Trace = ', sum(trace_array))"
   ]
  },
  {
   "cell_type": "markdown",
   "metadata": {},
   "source": [
    "## With numpy"
   ]
  },
  {
   "cell_type": "code",
   "execution_count": 6,
   "metadata": {
    "scrolled": true
   },
   "outputs": [
    {
     "name": "stdout",
     "output_type": "stream",
     "text": [
      "Outer Product using numpy: \n",
      "\n",
      " [[ 75  80  85  90  95 100]\n",
      " [ 90  96 102 108 114 120]\n",
      " [105 112 119 126 133 140]\n",
      " [120 128 136 144 152 160]\n",
      " [135 144 153 162 171 180]\n",
      " [150 160 170 180 190 200]]\n"
     ]
    }
   ],
   "source": [
    "outer_product_np = np.outer(a1,a2)\n",
    "print('Outer Product using numpy: \\n\\n', outer_product_np)"
   ]
  },
  {
   "cell_type": "code",
   "execution_count": 7,
   "metadata": {},
   "outputs": [
    {
     "name": "stdout",
     "output_type": "stream",
     "text": [
      "Diagonal array using numpy:  [ 75  96 119 144 171 200]\n",
      "Trace =  805\n"
     ]
    }
   ],
   "source": [
    "trace_array_np = outer_product_np.diagonal()\n",
    "\n",
    "print('Diagonal array using numpy: ', trace_array_np)\n",
    "print('Trace = ', trace_array_np.sum())"
   ]
  },
  {
   "cell_type": "markdown",
   "metadata": {},
   "source": [
    "### Matrix Multiplication\n",
    "* Two matricies can be multiplied if their inner dimensions match (eg. 2x3 * 3x5 -> 2x5). The best rule for working with and mutliplying matricies is to remember (rows x columns). This applies to both the dimensions of a matrix (a 2x3 matrix has 2 rows and 3 columns) as well as multiplication (you multiply the rows of the first matrix by the columns of the second). \n",
    "\n",
    "* When multiplying two matricies of dimension (M x N)*(N x P) the resulting matrix is (M x P). The upper element of the reslting matrix is the inner (or dot) product of the first row of the first matrix and the first column of the second matrix\n",
    "\n",
    "![two matrices](https://wikimedia.org/api/rest_v1/media/math/render/svg/16b1644351bc2041175b19cbc65da03ef78130c7)\n",
    "\n",
    "![store product in matrix C](https://wikimedia.org/api/rest_v1/media/math/render/svg/00ac0c831c365b7424cc43239aae8cebea27c56c)\n",
    "\n",
    "![matrix multiply](https://wikimedia.org/api/rest_v1/media/math/render/svg/3cfeccef1c8c7e6da0ddf08daed8dbf3c6f50c5e)\n",
    "\n",
    "for i = 1, ..., n and j = 1, ..., p.\n",
    "\n",
    "1. Make two matrices of random numbers (A and B). A should be a 4x3 matrix and B should be a 3x4 matrix. Multiply A by B using (to a resulting matrix C) using:\n",
    "    1. a conventional for-loop\n",
    "    1. list comprehension\n",
    "    1. numpy operator\n",
    "    \n",
    "2. After you have C, pull out the upper quadrant using fancy indexing, and then replace the main diagonal (upper left to lower right) with 0s. "
   ]
  },
  {
   "cell_type": "markdown",
   "metadata": {},
   "source": [
    "#### Make two matricies"
   ]
  },
  {
   "cell_type": "code",
   "execution_count": 20,
   "metadata": {
    "scrolled": true
   },
   "outputs": [
    {
     "name": "stdout",
     "output_type": "stream",
     "text": [
      "A = \n",
      " [[0 3 3]\n",
      " [7 6 9]\n",
      " [1 8 4]\n",
      " [1 1 1]]\n",
      "\n",
      "B = \n",
      " [[9 8 6 3]\n",
      " [3 4 5 1]\n",
      " [7 0 8 8]]\n"
     ]
    }
   ],
   "source": [
    "rand1 = (np.random.rand(4,3)*10)\n",
    "rand2 = (np.random.rand(3,4)*10)\n",
    "rand1 = rand1.astype(int)\n",
    "rand2 = rand2.astype(int)\n",
    "\n",
    "print('A = \\n', rand1)\n",
    "print('\\nB = \\n', rand2)"
   ]
  },
  {
   "cell_type": "markdown",
   "metadata": {},
   "source": [
    "#### Dot product using contentional for-loop"
   ]
  },
  {
   "cell_type": "code",
   "execution_count": 21,
   "metadata": {},
   "outputs": [
    {
     "name": "stdout",
     "output_type": "stream",
     "text": [
      "[[30, 12, 39, 27], [144, 80, 144, 99], [61, 40, 78, 43], [19, 12, 19, 12]]\n"
     ]
    }
   ],
   "source": [
    "result = [] \n",
    "for i in range(len(rand1)):\n",
    "\n",
    "    row = [] \n",
    "    for j in range(len(rand2[0])):\n",
    "\n",
    "        product = 0 \n",
    "        for v in range(len(rand1[i])):\n",
    "            product += rand1[i][v] * rand2[v][j]\n",
    "        row.append(product) \n",
    "\n",
    "    result.append(row)\n",
    "\n",
    "\n",
    "print(result)"
   ]
  },
  {
   "cell_type": "markdown",
   "metadata": {},
   "source": [
    "#### List Comprehension"
   ]
  },
  {
   "cell_type": "code",
   "execution_count": null,
   "metadata": {},
   "outputs": [],
   "source": [
    "list_comprehension = [rand1[i][v] * rand2[v][j] for v in range(len(rand1[i])) ]"
   ]
  },
  {
   "cell_type": "code",
   "execution_count": 33,
   "metadata": {},
   "outputs": [
    {
     "name": "stdout",
     "output_type": "stream",
     "text": [
      "Dot Product:  [0, 63, 9, 9, 0, 56, 8, 8, 0, 42, 6, 6, 0, 21, 3, 3, 9, 18, 24, 3, 12, 24, 32, 4, 15, 30, 40, 5, 3, 6, 8, 1, 21, 63, 28, 7, 0, 0, 0, 0, 24, 72, 32, 8, 24, 72, 32, 8]\n"
     ]
    }
   ],
   "source": [
    "list_comprehension = [rand1[i][v] * rand2[v][j] for v in range(len(rand1[i])) for j in range(len(rand2[0])) for i in range(len(rand1))]\n",
    "print('Dot Product: ', list_comprehension)"
   ]
  },
  {
   "cell_type": "code",
   "execution_count": 29,
   "metadata": {},
   "outputs": [
    {
     "data": {
      "text/plain": [
       "range(0, 4)"
      ]
     },
     "execution_count": 29,
     "metadata": {},
     "output_type": "execute_result"
    }
   ],
   "source": [
    "range(len(rand1))"
   ]
  },
  {
   "cell_type": "markdown",
   "metadata": {},
   "source": [
    "#### Dot product using numpy"
   ]
  },
  {
   "cell_type": "code",
   "execution_count": 24,
   "metadata": {
    "scrolled": true
   },
   "outputs": [
    {
     "name": "stdout",
     "output_type": "stream",
     "text": [
      "Dot product using numpy =\n",
      "\n",
      " [[ 30  12  39  27]\n",
      " [144  80 144  99]\n",
      " [ 61  40  78  43]\n",
      " [ 19  12  19  12]]\n"
     ]
    }
   ],
   "source": [
    "dot_product_np = np.dot(rand1, rand2)\n",
    "print('Dot product using numpy =\\n\\n', dot_product_np)"
   ]
  },
  {
   "cell_type": "markdown",
   "metadata": {},
   "source": [
    "### Fancy Indexing"
   ]
  },
  {
   "cell_type": "code",
   "execution_count": 25,
   "metadata": {},
   "outputs": [],
   "source": [
    "fancy_matrix = dot_product_np[[0,1]][:,[2,3]]"
   ]
  },
  {
   "cell_type": "code",
   "execution_count": 26,
   "metadata": {},
   "outputs": [
    {
     "name": "stdout",
     "output_type": "stream",
     "text": [
      "[[  0  27]\n",
      " [144   0]]\n"
     ]
    }
   ],
   "source": [
    "diagonal_zeros = fancy_matrix.copy()\n",
    "\n",
    "for i in range(len(diagonal_zeros)):\n",
    "    diagonal_zeros[i,i] = 0\n",
    "    \n",
    "print(diagonal_zeros)    "
   ]
  }
 ],
 "metadata": {
  "kernelspec": {
   "display_name": "Python 3",
   "language": "python",
   "name": "python3"
  },
  "language_info": {
   "codemirror_mode": {
    "name": "ipython",
    "version": 3
   },
   "file_extension": ".py",
   "mimetype": "text/x-python",
   "name": "python",
   "nbconvert_exporter": "python",
   "pygments_lexer": "ipython3",
   "version": "3.6.5"
  }
 },
 "nbformat": 4,
 "nbformat_minor": 2
}
